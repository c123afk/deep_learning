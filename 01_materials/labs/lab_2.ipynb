{
  "cells": [
    {
      "cell_type": "markdown",
      "metadata": {
        "id": "3MJrlYzTzYAU"
      },
      "source": [
        "# Backpropagation in Multilayer Neural Networks\n",
        "\n",
        "While we will primarily be working with high-level, abstract toolkits like Keras in this course, understanding how backpropagation works is absolutely essential to using neural networks.\n",
        "\n",
        "In this exercise, we will build our own backpropagation algorithm - working through each step, to ensure that we can follow it."
      ]
    },
    {
      "cell_type": "markdown",
      "metadata": {
        "collapsed": false,
        "id": "i2cy7_bYzYAa"
      },
      "source": [
        "Just like in Lab 1, we'll be working with the MNIST dataset. We will load it and plot an example:"
      ]
    },
    {
      "cell_type": "code",
      "execution_count": 1,
      "metadata": {
        "id": "68YJqP4XzYAb"
      },
      "outputs": [],
      "source": [
        "%matplotlib inline\n",
        "import matplotlib.pyplot as plt\n",
        "import numpy as np\n",
        "from sklearn.datasets import load_digits\n",
        "\n",
        "digits = load_digits()"
      ]
    },
    {
      "cell_type": "code",
      "execution_count": 2,
      "metadata": {
        "id": "2z-MQBr2zYAe",
        "outputId": "d26a9f14-be91-4e61-f5c9-9a4340a55ef5",
        "colab": {
          "base_uri": "https://localhost:8080/",
          "height": 314
        }
      },
      "outputs": [
        {
          "output_type": "display_data",
          "data": {
            "text/plain": [
              "<Figure size 300x300 with 1 Axes>"
            ],
            "image/png": "[encoded data removed]"
          },
          "metadata": {}
        }
      ],
      "source": [
        "sample_index = 45\n",
        "plt.figure(figsize=(3, 3))\n",
        "plt.imshow(digits.images[sample_index], cmap=plt.cm.gray_r,\n",
        "           interpolation='nearest')\n",
        "plt.title(\"image label: %d\" % digits.target[sample_index]);"
      ]
    },
    {
      "cell_type": "markdown",
      "metadata": {
        "id": "nlEh6D-ozYAf"
      },
      "source": [
        "### Preprocessing\n",
        "\n",
        "Of course, we need to split our data into training and testing sets before we use it, just the same as in Lab 1:"
      ]
    },
    {
      "cell_type": "code",
      "execution_count": 3,
      "metadata": {
        "id": "WFzE9_XtzYAg"
      },
      "outputs": [],
      "source": [
        "from sklearn.model_selection import train_test_split\n",
        "\n",
        "data = np.asarray(digits.data, dtype='float32')\n",
        "target = np.asarray(digits.target, dtype='int32')\n",
        "\n",
        "X_train, X_test, y_train, y_test = train_test_split(\n",
        "    data, target, test_size=0.15, random_state=37)"
      ]
    },
    {
      "cell_type": "markdown",
      "metadata": {
        "id": "DIJfQQS3zYAg"
      },
      "source": [
        "# Numpy Implementation\n",
        "\n",
        "## a) Logistic Regression\n",
        "\n",
        "In this section we will implement a logistic regression model trainable with SGD using numpy. Here are the objectives:\n",
        "\n",
        "- Implement the softmax function $\\sigma(\\mathbf{x})_i = \\frac{e^{x_i}}{\\sum_{j=1}^n e^{x_j}}$;\n",
        "- Implement the negative log likelihood function $NLL(Y_{true}, Y_{pred}) = - \\sum_{i=1}^{n}{y_{true, i} \\cdot \\log(y_{pred, i})}$;\n",
        "- Train a logistic regression model on the MNIST dataset;\n",
        "- Evaluate the model on the training and testing sets.\n",
        "\n",
        "Before we get there, let's write a function that one-hot encodes the class labels:"
      ]
    },
    {
      "cell_type": "code",
      "execution_count": 5,
      "metadata": {
        "id": "HWV12zaHzYAi"
      },
      "outputs": [],
      "source": [
        "#Convert y-values into one-hot vectors\n",
        "def one_hot(n_classes, y):\n",
        "    return np.eye(n_classes)[y]\n"
      ]
    },
    {
      "cell_type": "code",
      "execution_count": 6,
      "metadata": {
        "id": "cuk3vzrqzYAj",
        "outputId": "284e0d81-dd16-4862-9a3c-58192957e054",
        "colab": {
          "base_uri": "https://localhost:8080/"
        }
      },
      "outputs": [
        {
          "output_type": "execute_result",
          "data": {
            "text/plain": [
              "array([0., 0., 0., 1., 0., 0., 0., 0., 0., 0.])"
            ]
          },
          "metadata": {},
          "execution_count": 6
        }
      ],
      "source": [
        "one_hot(n_classes=10, y=3)"
      ]
    },
    {
      "cell_type": "code",
      "execution_count": 7,
      "metadata": {
        "id": "IIIC3ARkzYAj",
        "outputId": "01aee709-d14e-4fb9-a4c4-007d2de26e28",
        "colab": {
          "base_uri": "https://localhost:8080/"
        }
      },
      "outputs": [
        {
          "output_type": "execute_result",
          "data": {
            "text/plain": [
              "array([[1., 0., 0., 0., 0., 0., 0., 0., 0., 0.],\n",
              "       [0., 0., 0., 0., 1., 0., 0., 0., 0., 0.],\n",
              "       [0., 0., 0., 0., 0., 0., 0., 0., 0., 1.],\n",
              "       [0., 1., 0., 0., 0., 0., 0., 0., 0., 0.]])"
            ]
          },
          "metadata": {},
          "execution_count": 7
        }
      ],
      "source": [
        "one_hot(n_classes=10, y=[0, 4, 9, 1])"
      ]
    },
    {
      "cell_type": "markdown",
      "metadata": {
        "id": "pvUI_dblzYAk"
      },
      "source": [
        "### The softmax function\n",
        "\n",
        "Now we will implement the softmax function. Recall that the softmax function is defined as follows:\n",
        "\n",
        "$$\n",
        "softmax(\\mathbf{x}) = \\frac{1}{\\sum_{i=1}^{n}{e^{x_i}}}\n",
        "\\cdot\n",
        "\\begin{bmatrix}\n",
        "  e^{x_1}\\\\\\\\\n",
        "  e^{x_2}\\\\\\\\\n",
        "  \\vdots\\\\\\\\\n",
        "  e^{x_n}\n",
        "\\end{bmatrix}\n",
        "$$\n",
        "\n",
        "This is implemented for you using numpy - we want to be able to apply the softmax function to a batch of samples at once, so we will use numpy's vectorized operations to do so.\n",
        "\n",
        "Our method also handles _stability issues_ that can occur when the values in `X` are very large. We will subtract the maximum value from each row of `X` to avoid overflow in the exponentiation. This isn't part of the softmax function itself, but it's a useful trick to know about."
      ]
    },
    {
      "cell_type": "code",
      "source": [
        "#Soft max function takes the set of all outcomes values and squishes them into values between 0 and 1\n",
        "#1/sum of all values, exp by e, then multiply by all values"
      ],
      "metadata": {
        "id": "WTs7UOmG0wjb"
      },
      "execution_count": null,
      "outputs": []
    },
    {
      "cell_type": "code",
      "execution_count": 8,
      "metadata": {
        "id": "DVvONBEbzYAk"
      },
      "outputs": [],
      "source": [
        "def softmax(X):\n",
        "    X_max = np.max(X, axis=-1, keepdims=True) #max value of any of the X's\n",
        "    exp = np.exp(X - X_max) # Subtract the max to avoid overflow in the exponentiation\n",
        "    return exp / np.sum(exp, axis=-1, keepdims=True) #return the softmax function calculation shown above\n"
      ]
    },
    {
      "cell_type": "markdown",
      "metadata": {
        "id": "Pfak8pS-zYAl"
      },
      "source": [
        "Let's make sure that this works one vector at a time (and check that the components sum to one):"
      ]
    },
    {
      "cell_type": "code",
      "execution_count": 9,
      "metadata": {
        "id": "Op7Ozq8QzYAl",
        "outputId": "42c0bdf1-9046-4616-9a92-e028fd60a8c1",
        "colab": {
          "base_uri": "https://localhost:8080/"
        }
      },
      "outputs": [
        {
          "output_type": "stream",
          "name": "stdout",
          "text": [
            "[9.99662391e-01 3.35349373e-04 2.25956630e-06]\n"
          ]
        }
      ],
      "source": [
        "print(softmax([10, 2, -3]))"
      ]
    },
    {
      "cell_type": "markdown",
      "metadata": {
        "id": "Mc5rQRBKzYAm"
      },
      "source": [
        "When we are using our model to make predictions, we will want to be able to make predictions for multiple samples at once.\n",
        "Let's make sure that our implementation of softmax works for a batch of samples:"
      ]
    },
    {
      "cell_type": "code",
      "execution_count": 10,
      "metadata": {
        "id": "U7XNrVtGzYAm",
        "outputId": "e740d453-47fe-49c8-eda6-cc8cbee22719",
        "colab": {
          "base_uri": "https://localhost:8080/"
        }
      },
      "outputs": [
        {
          "output_type": "stream",
          "name": "stdout",
          "text": [
            "[[9.99662391e-01 3.35349373e-04 2.25956630e-06]\n",
            " [2.47262316e-03 9.97527377e-01 1.38536042e-11]]\n"
          ]
        }
      ],
      "source": [
        "X = np.array([[10, 2, -3],\n",
        "              [-1, 5, -20]])\n",
        "print(softmax(X))"
      ]
    },
    {
      "cell_type": "markdown",
      "metadata": {
        "id": "JuiNugLnzYAn"
      },
      "source": [
        "Probabilities should sum to 1:"
      ]
    },
    {
      "cell_type": "code",
      "execution_count": 11,
      "metadata": {
        "id": "6TOFBRkQzYAn",
        "outputId": "e1852d8d-593d-4206-9c9f-7fb074bd020d",
        "colab": {
          "base_uri": "https://localhost:8080/"
        }
      },
      "outputs": [
        {
          "output_type": "stream",
          "name": "stdout",
          "text": [
            "1.0\n"
          ]
        }
      ],
      "source": [
        "print(np.sum(softmax([10, 2, -3])))"
      ]
    },
    {
      "cell_type": "code",
      "execution_count": null,
      "metadata": {
        "id": "sRE2fqlJzYAo"
      },
      "outputs": [],
      "source": [
        "print(\"softmax of 2 vectors:\")\n",
        "X = np.array([[10, 2, -3],\n",
        "              [-1, 5, -20]])\n",
        "print(softmax(X))"
      ]
    },
    {
      "cell_type": "markdown",
      "metadata": {
        "id": "e1ZAh8yizYAo"
      },
      "source": [
        "The sum of probabilities for each input vector of logits should some to 1:"
      ]
    },
    {
      "cell_type": "code",
      "execution_count": 12,
      "metadata": {
        "id": "lDvKSEmNzYAo",
        "outputId": "8101c017-638c-4914-a470-e04d4e0c63c7",
        "colab": {
          "base_uri": "https://localhost:8080/"
        }
      },
      "outputs": [
        {
          "output_type": "stream",
          "name": "stdout",
          "text": [
            "[1. 1.]\n"
          ]
        }
      ],
      "source": [
        "print(np.sum(softmax(X), axis=1))"
      ]
    },
    {
      "cell_type": "markdown",
      "metadata": {
        "id": "8j8rPsrbzYAo"
      },
      "source": [
        "Now we will implement a function that, given the true one-hot encoded class `Y_true` and some predicted probabilities `Y_pred`, returns the negative log likelihood.\n",
        "\n",
        "Recall that the negative log likelihood is defined as follows:\n",
        "\n",
        "$$\n",
        "NLL(Y_{true}, Y_{pred}) = - \\sum_{i=1}^{n}{y_{true, i} \\cdot \\log(y_{pred, i})}\n",
        "$$\n",
        "\n",
        "For example, if we have $y_{true} = [1, 0, 0]$ and $y_{pred} = [0.99, 0.01, 0]$, then the negative log likelihood is $- \\log(0.99) \\approx 0.01$."
      ]
    },
    {
      "cell_type": "code",
      "execution_count": 13,
      "metadata": {
        "id": "dNeSyOenzYAo",
        "outputId": "261ed258-8b4c-4071-e434-3c10e7ad22d0",
        "colab": {
          "base_uri": "https://localhost:8080/"
        }
      },
      "outputs": [
        {
          "output_type": "stream",
          "name": "stdout",
          "text": [
            "0.01005033585350145\n"
          ]
        }
      ],
      "source": [
        "def nll(Y_true, Y_pred):\n",
        "    Y_true = np.asarray(Y_true)\n",
        "    Y_pred = np.asarray(Y_pred)\n",
        "\n",
        "    # Ensure Y_pred doesn't have zero probabilities to avoid log(0)\n",
        "    Y_pred = np.clip(Y_pred, 1e-15, 1 - 1e-15)\n",
        "\n",
        "    # Calculate negative log likelihood\n",
        "    loss = -np.sum(Y_true * np.log(Y_pred))\n",
        "    return loss\n",
        "\n",
        "# Make sure that it works for a simple sample at a time\n",
        "print(nll([1, 0, 0], [.99, 0.01, 0]))"
      ]
    },
    {
      "cell_type": "markdown",
      "metadata": {
        "id": "WRdU0QOlzYAp"
      },
      "source": [
        "We should see a very high value for this negative log likelihood, since the model is very confident that the third class is the correct one, but the true class is the first one:"
      ]
    },
    {
      "cell_type": "code",
      "execution_count": 14,
      "metadata": {
        "id": "S8ysQexZzYAp",
        "outputId": "b26e696e-9127-43bd-cf8d-f0a320ea318b",
        "colab": {
          "base_uri": "https://localhost:8080/"
        }
      },
      "outputs": [
        {
          "output_type": "stream",
          "name": "stdout",
          "text": [
            "4.605170185988091\n"
          ]
        }
      ],
      "source": [
        "print(nll([1, 0, 0], [0.01, 0.01, .98]))"
      ]
    },
    {
      "cell_type": "markdown",
      "metadata": {
        "id": "eEqOzA1wzYAp"
      },
      "source": [
        "Make sure that your implementation can compute the average negative log likelihood of a group of predictions: `Y_pred` and `Y_true` can therefore be past as 2D arrays:"
      ]
    },
    {
      "cell_type": "code",
      "execution_count": 15,
      "metadata": {
        "id": "EKt-Crd5zYAp",
        "outputId": "94f2a4b5-9a7b-468a-fe4f-3ba3532d133e",
        "colab": {
          "base_uri": "https://localhost:8080/"
        }
      },
      "outputs": [
        {
          "output_type": "stream",
          "name": "stdout",
          "text": [
            "0.010050335853503449\n"
          ]
        }
      ],
      "source": [
        "# Check that the average NLL of the following 3 almost perfect predictions is close to 0\n",
        "Y_true = np.array([[0, 1, 0],\n",
        "                   [1, 0, 0],\n",
        "                   [0, 0, 1]])\n",
        "\n",
        "Y_pred = np.array([[0,   1,    0],\n",
        "                   [.99, 0.01, 0],\n",
        "                   [0,   0,    1]])\n",
        "\n",
        "print(nll(Y_true, Y_pred))"
      ]
    },
    {
      "cell_type": "markdown",
      "metadata": {
        "collapsed": false,
        "id": "dSEzziadzYAp"
      },
      "source": [
        "Now that we have our softmax and negative log likelihood functions, we can implement a logistic regression model.\n",
        "In this section, we have built the model for you, but you will need to complete a few key parts.\n",
        "\n",
        "**YOUR TURN:**\n",
        "\n",
        "1. Implement the `forward` method of the `LogisticRegression` class. This method should take in a batch of samples `X` and return the predicted probabilities for each class. You should use the softmax function that we implemented earlier.\n",
        "2. Implement the `loss` method of the `LogisticRegression` class. This method take in the samples `X` and the true values `y` and return the average negative log likelihood of the predictions."
      ]
    },
    {
      "cell_type": "code",
      "execution_count": 16,
      "metadata": {
        "id": "xa4MSEOqzYAp"
      },
      "outputs": [],
      "source": [
        "class LogisticRegression:\n",
        "\n",
        "    def __init__(self, input_size, output_size):\n",
        "        # Initialize the weights and biases with random numbers\n",
        "        self.W = np.random.uniform(size=(input_size, output_size),\n",
        "                                   high=0.1, low=-0.1)\n",
        "        self.b = np.random.uniform(size=output_size,\n",
        "                                   high=0.1, low=-0.1)\n",
        "          #recall that bias can also be set to 0\n",
        "\n",
        "        # Store the input size and output size\n",
        "        self.output_size = output_size\n",
        "        self.input_size = input_size\n",
        "\n",
        "    def forward(self, X):\n",
        "        # Compute the linear combination of the input and weights\n",
        "        Z = np.dot(X, self.W) + self.b\n",
        "        return softmax(Z)\n",
        "\n",
        "    def predict(self, X):\n",
        "        # Return the most probable class for each sample in X\n",
        "        if len(X.shape) == 1:\n",
        "            return np.argmax(self.forward(X))\n",
        "        else:\n",
        "            return np.argmax(self.forward(X), axis=1)\n",
        "\n",
        "    def loss(self, X, y):\n",
        "        # Compute the negative log likelihood over the data provided\n",
        "        y_onehot = one_hot(self.output_size, y.astype(int))\n",
        "        y_pred= self.forward(X) #make prediction\n",
        "        return nll(y_onehot, y_pred) #calculate loss of true vs. predicted using the nll function defined previously\n",
        "\n",
        "    def grad_loss(self, X, y_true, y_pred):\n",
        "        # Compute the gradient of the loss with respect to W and b for a single sample (X, y_true)\n",
        "        # y_pred is the output of the forward pass\n",
        "\n",
        "        # Gradient with respect to weights\n",
        "        grad_W = np.dot(X.T, (y_pred - y_true))\n",
        "\n",
        "        # Gradient with respect to biases\n",
        "        grad_b = np.sum(y_pred - y_true, axis=0)\n",
        "\n",
        "        return grad_W, grad_b\n",
        "\n",
        "# Raise an exception if you try to run this cell without having implemented the LogisticRegression class\n",
        "model = LogisticRegression(input_size=64, output_size=10)\n",
        "try:\n",
        "    assert(model.forward(np.zeros((1, 64))).shape == (1, 10))\n",
        "    assert(model.loss(np.zeros((1, 64)), np.zeros(1)) > 0)\n",
        "except:\n",
        "    raise NotImplementedError(\"You need to correctly implement the LogisticRegression class.\")"
      ]
    },
    {
      "cell_type": "code",
      "execution_count": 17,
      "metadata": {
        "id": "h2CeAAcSzYAq"
      },
      "outputs": [],
      "source": [
        "# Build a model and test its forward inference\n",
        "n_features = X_train.shape[1] #X_train is the array with 64 values\n",
        "n_classes = len(np.unique(y_train))\n",
        "lr = LogisticRegression(n_features, n_classes)"
      ]
    },
    {
      "cell_type": "markdown",
      "metadata": {
        "collapsed": false,
        "id": "RrqhmEl0zYAq"
      },
      "source": [
        "We can evaluate the model on an example, visualizing the prediction probabilities:"
      ]
    },
    {
      "cell_type": "code",
      "execution_count": 18,
      "metadata": {
        "id": "dghu7VWvzYAq",
        "outputId": "de494909-9e9f-4c88-f150-c45162a7eeb9",
        "colab": {
          "base_uri": "https://localhost:8080/",
          "height": 410
        }
      },
      "outputs": [
        {
          "output_type": "display_data",
          "data": {
            "text/plain": [
              "<Figure size 1000x400 with 2 Axes>"
            ],
            "image/png": "[encoded data removed]"
          },
          "metadata": {}
        }
      ],
      "source": [
        "def plot_prediction(model, sample_idx=0, classes=range(10)):\n",
        "    fig, (ax0, ax1) = plt.subplots(nrows=1, ncols=2, figsize=(10, 4))\n",
        "\n",
        "    ax0.imshow(X_test[sample_idx:sample_idx+1].reshape(8, 8),\n",
        "               cmap=plt.cm.gray_r, interpolation='nearest')\n",
        "    ax0.set_title(\"True image label: %d\" % y_test[sample_idx]);\n",
        "\n",
        "\n",
        "    ax1.bar(classes, one_hot(len(classes), y_test[sample_idx]), label='true')\n",
        "    ax1.bar(classes, model.forward(X_test[sample_idx]), label='prediction', color=\"red\")\n",
        "    ax1.set_xticks(classes)\n",
        "    prediction = model.predict(X_test[sample_idx])\n",
        "    ax1.set_title('Output probabilities (prediction: %d)'\n",
        "                  % prediction)\n",
        "    ax1.set_xlabel('Digit class')\n",
        "    ax1.legend()\n",
        "\n",
        "plot_prediction(lr, sample_idx=0)\n",
        ""
      ]
    },
    {
      "cell_type": "markdown",
      "metadata": {
        "collapsed": false,
        "id": "bXWqI8KhzYAq"
      },
      "source": [
        "Now it's time to start training! We will train for a single epoch, and then evaluate the model on the training and testing sets. Read through the following and make sure that you understand what we are doing here."
      ]
    },
    {
      "cell_type": "code",
      "execution_count": 21,
      "metadata": {
        "collapsed": true,
        "id": "NQKpEFCVzYAr",
        "outputId": "3ac56983-8072-43e2-da3f-eb81f6d9e7bf",
        "colab": {
          "base_uri": "https://localhost:8080/"
        }
      },
      "outputs": [
        {
          "output_type": "stream",
          "name": "stdout",
          "text": [
            "Average NLL over the last 100 samples at step 0: -0\n",
            "Average NLL over the last 100 samples at step 100: 387\n",
            "Average NLL over the last 100 samples at step 200: 324\n",
            "Average NLL over the last 100 samples at step 300: 359\n",
            "Average NLL over the last 100 samples at step 400: 178\n",
            "Average NLL over the last 100 samples at step 500: 192\n",
            "Average NLL over the last 100 samples at step 600: 160\n",
            "Average NLL over the last 100 samples at step 700: 238\n",
            "Average NLL over the last 100 samples at step 800: 88\n",
            "Average NLL over the last 100 samples at step 900: 75\n",
            "Average NLL over the last 100 samples at step 1000: 536\n",
            "Average NLL over the last 100 samples at step 1100: 117\n",
            "Average NLL over the last 100 samples at step 1200: 155\n",
            "Average NLL over the last 100 samples at step 1300: 191\n",
            "Average NLL over the last 100 samples at step 1400: 288\n",
            "Average NLL over the last 100 samples at step 1500: 40\n"
          ]
        }
      ],
      "source": [
        "lr = LogisticRegression(input_size=X_train.shape[1], output_size=10)\n",
        "\n",
        "learning_rate = 0.01\n",
        "\n",
        "for i in range(len(X_train)): #for each sample, get input and output of the indv sample\n",
        "    # Get the current sample and corresponding label\n",
        "    x = X_train[i:i+1]  # Reshape to keep the batch dimension\n",
        "    y = y_train[i:i+1]  # Reshape to keep the batch dimension\n",
        "\n",
        "    # Compute the forward pass and the gradient of the loss with respect to W and b\n",
        "    y_pred = lr.forward(x)\n",
        "    grad_W, grad_b = lr.grad_loss(x, one_hot(lr.output_size, y), y_pred) #get gradient of the model wrt to the prediction y_pred\n",
        "\n",
        "    # Update the weights and biases using the gradients\n",
        "    lr.W -= learning_rate * grad_W\n",
        "    lr.b -= learning_rate * grad_b\n",
        "\n",
        "    # Print the average negative log likelihood every 100 steps\n",
        "    if i % 100 == 0:\n",
        "        #print(\"start\")\n",
        "        #print(x, y)\n",
        "        #print(y_pred)\n",
        "        #print(grad_W)\n",
        "        #print(lr.W)\n",
        "        #print(lr.b)\n",
        "        avg_nll = lr.loss(X_train[max(0, i-100):i], y_train[max(0, i-100):i])\n",
        "        print(\"Average NLL over the last 100 samples at step %d: %0.f\" % (i, avg_nll))\n"
      ]
    },
    {
      "cell_type": "markdown",
      "metadata": {
        "collapsed": false,
        "id": "UID2VoYCzYAr"
      },
      "source": [
        "Evaluate the trained model on the first example:"
      ]
    },
    {
      "cell_type": "code",
      "execution_count": 22,
      "metadata": {
        "id": "KJuc1zN4zYAr",
        "outputId": "99ec9b8a-6d15-43e3-85b3-d4c3891a1056",
        "colab": {
          "base_uri": "https://localhost:8080/",
          "height": 410
        }
      },
      "outputs": [
        {
          "output_type": "display_data",
          "data": {
            "text/plain": [
              "<Figure size 1000x400 with 2 Axes>"
            ],
            "image/png": "[encoded data removed]"
          },
          "metadata": {}
        }
      ],
      "source": [
        "plot_prediction(lr, sample_idx=0)"
      ]
    },
    {
      "cell_type": "markdown",
      "metadata": {
        "id": "BgxNnctzzYAr"
      },
      "source": [
        "## b) Feedforward Multilayer\n",
        "\n",
        "The objective of this section is to implement the backpropagation algorithm (SGD with the chain rule) on a single layer neural network using the sigmoid activation function.\n",
        "\n",
        "Now it's your turn to\n",
        "\n",
        "- Implement the `sigmoid` and its element-wise derivative `dsigmoid` functions:\n",
        "\n",
        "$$\n",
        "sigmoid(x) = \\frac{1}{1 + e^{-x}}\n",
        "$$\n",
        "\n",
        "$$\n",
        "dsigmoid(x) = sigmoid(x) \\cdot (1 - sigmoid(x))\n",
        "$$\n",
        "\n",
        "Remember that you can use your `sigmoid` function inside your `dsigmoid` function.\n",
        "\n",
        "Just like with our softmax function, we also want to make sure that we don't run into stability issues with our sigmoid function. We will use `np.clip` to ensure that the input to the sigmoid function is not too large or too small."
      ]
    },
    {
      "cell_type": "code",
      "execution_count": 23,
      "metadata": {
        "id": "gz8mWBAnzYAs",
        "outputId": "e639dcb1-97e2-4de5-a903-04f9c15342c7",
        "colab": {
          "base_uri": "https://localhost:8080/",
          "height": 430
        }
      },
      "outputs": [
        {
          "output_type": "display_data",
          "data": {
            "text/plain": [
              "<Figure size 640x480 with 1 Axes>"
            ],
            "image/png": "[encoded data removed]"
          },
          "metadata": {}
        }
      ],
      "source": [
        "#activation func that squishes infinite range of values into 0 to 1\n",
        "def sigmoid(X):\n",
        "    # Clip X to prevent overflow or underflow\n",
        "    X = np.clip(X, -500, 500) # This ensures that np.exp(X) doesn't overflow\n",
        "    return 1/ ( 1 + np.exp(-X) )\n",
        "\n",
        "\n",
        "def dsigmoid(X):\n",
        "    return sigmoid(X) * (1-sigmoid(X))\n",
        "\n",
        "\n",
        "x = np.linspace(-5, 5, 100)\n",
        "plt.plot(x, sigmoid(x), label='sigmoid')\n",
        "plt.plot(x, dsigmoid(x), label='dsigmoid')\n",
        "plt.legend(loc='best');"
      ]
    },
    {
      "cell_type": "markdown",
      "metadata": {
        "id": "OoRjDi2azYAs"
      },
      "source": [
        "Now it's your turn to complete the neural network code, so that we can train it on the MNIST dataset.\n",
        "\n",
        "Some parts have been completed for you already. Often, you'll be able to refer back to the code from the previous section to help you complete the code in this section."
      ]
    },
    {
      "cell_type": "code",
      "execution_count": 24,
      "metadata": {
        "id": "mFNdMEZJzYAy"
      },
      "outputs": [],
      "source": [
        "class NeuralNet():\n",
        "    \"\"\"MLP with 1 hidden layer with a sigmoid activation\"\"\"\n",
        "\n",
        "    def __init__(self, input_size, hidden_size, output_size):\n",
        "        # Initializes the weights with random numbers\n",
        "        self.W_h = np.random.uniform(size=(input_size, hidden_size),\n",
        "                                     high=0.1, low=-0.1)\n",
        "        self.b_h = np.random.uniform(size=hidden_size,\n",
        "                                     high=0.1, low=-0.1)\n",
        "        self.W_o = np.random.uniform(size=(hidden_size, output_size),\n",
        "                                     high=0.1, low=-0.1)\n",
        "        self.b_o = np.random.uniform(size=output_size,\n",
        "                                     high=0.1, low=-0.1)\n",
        "\n",
        "        # Store the input size, hidden size and output size\n",
        "        self.input_size = input_size\n",
        "        self.hidden_size = hidden_size\n",
        "        self.output_size = output_size\n",
        "\n",
        "    def forward_hidden(self, X):\n",
        "        # Compute the linear combination of the input and weights\n",
        "        self.Z_h = np.dot(X, self.W_h) + self.b_h\n",
        "\n",
        "        # Apply the sigmoid activation function\n",
        "        return sigmoid(self.Z_h)\n",
        "\n",
        "    def forward_output(self, H):\n",
        "        # Compute the linear combination of the hidden layer activation and weights\n",
        "        self.Z_o = np.dot(H, self.W_o) + self.b_o\n",
        "\n",
        "        # Apply the sigmoid activation function\n",
        "        return sigmoid(self.Z_o)\n",
        "\n",
        "    def forward(self, X):\n",
        "        # Compute the forward activations of the hidden and output layers\n",
        "        H = self.forward_hidden(X)\n",
        "        Y = self.forward_output(H)\n",
        "\n",
        "        return Y #this is the output\n",
        "\n",
        "    def loss(self, X, y):\n",
        "        y = y.astype(int)\n",
        "        y_onehot = one_hot(10, y)\n",
        "        y_pred= self.forward(X) #make prediction\n",
        "        return nll(y_onehot, y_pred) #calculate nll\n",
        "\n",
        "    def grad_loss(self, X, y_true):\n",
        "        y_true = one_hot(self.output_size, y_true)\n",
        "        y_pred = self.forward(X)\n",
        "\n",
        "        # Compute the error at the output layer\n",
        "        error_o = y_pred - y_true\n",
        "\n",
        "        # Compute the gradient of the loss with respect to W_o and b_o\n",
        "        grad_W_o = np.dot(self.Z_h.T, error_o)\n",
        "        grad_b_o = np.sum(error_o, axis=0)\n",
        "\n",
        "        # Compute the error at the hidden layer\n",
        "        error_h = np.dot(error_o, self.W_o.T) * dsigmoid(self.Z_h)\n",
        "\n",
        "        # Compute the gradient of the loss with respect to W_h and b_h\n",
        "        grad_W_h = np.dot(X.T, error_h)\n",
        "        grad_b_h = np.sum(error_h, axis=0)\n",
        "\n",
        "        return {\"W_h\": grad_W_h, \"b_h\": grad_b_h, \"W_o\": grad_W_o, \"b_o\": grad_b_o}\n",
        "\n",
        "    def train(self, x, y, learning_rate):\n",
        "        # Ensure x is 2D\n",
        "        x = x[np.newaxis, :]\n",
        "        # Compute the gradient for the sample and update the weights\n",
        "        grads = self.grad_loss(x, y)\n",
        "\n",
        "        self.W_h -= learning_rate * grads[\"W_h\"]\n",
        "        self.b_h -= learning_rate * grads[\"b_h\"]\n",
        "        self.W_o -= learning_rate * grads[\"W_o\"]\n",
        "        self.b_o -= learning_rate * grads[\"b_o\"]\n",
        "\n",
        "    def predict(self, X):\n",
        "        if len(X.shape) == 1:\n",
        "            return np.argmax(self.forward(X))\n",
        "        else:\n",
        "            return np.argmax(self.forward(X), axis=1)\n",
        "\n",
        "    def accuracy(self, X, y):\n",
        "        y_preds = np.argmax(self.forward(X), axis=1)\n",
        "        return np.mean(y_preds == y)\n",
        "\n",
        "# Raise an exception if you try to run this cell without having implemented the NeuralNet class\n",
        "nn = NeuralNet(input_size=64, hidden_size=32, output_size=10)\n",
        "try:\n",
        "    assert(nn.forward(np.zeros((1, 64))).shape == (1, 10))\n",
        "    assert(nn.loss(np.zeros((1, 64)), np.zeros(1)) > 0)\n",
        "except:\n",
        "    raise NotImplementedError(\"You need to correctly implement the NeuralNet class.\")"
      ]
    },
    {
      "cell_type": "markdown",
      "metadata": {
        "collapsed": false,
        "id": "LYBjtMWyzYAz"
      },
      "source": [
        "Once the code is written, we can test our model on a single sample:"
      ]
    },
    {
      "cell_type": "code",
      "execution_count": 25,
      "metadata": {
        "id": "OWTFvWQyzYAz"
      },
      "outputs": [],
      "source": [
        "n_hidden = 10\n",
        "model = NeuralNet(n_features, n_hidden, n_classes)"
      ]
    },
    {
      "cell_type": "code",
      "execution_count": 26,
      "metadata": {
        "id": "2Os7utEAzYAz",
        "outputId": "cd106b49-9988-4192-e269-e48a33f8007b",
        "colab": {
          "base_uri": "https://localhost:8080/"
        }
      },
      "outputs": [
        {
          "output_type": "execute_result",
          "data": {
            "text/plain": [
              "1078.908259448958"
            ]
          },
          "metadata": {},
          "execution_count": 26
        }
      ],
      "source": [
        "model.loss(X_train, y_train)"
      ]
    },
    {
      "cell_type": "code",
      "execution_count": 27,
      "metadata": {
        "id": "NuYHFzvezYAz",
        "outputId": "c4fc11ed-8b8f-4bf1-b3fa-91bd01c10b4c",
        "colab": {
          "base_uri": "https://localhost:8080/"
        }
      },
      "outputs": [
        {
          "output_type": "execute_result",
          "data": {
            "text/plain": [
              "0.09888670595939751"
            ]
          },
          "metadata": {},
          "execution_count": 27
        }
      ],
      "source": [
        "model.accuracy(X_train, y_train)"
      ]
    },
    {
      "cell_type": "code",
      "execution_count": 28,
      "metadata": {
        "id": "6YynvM9nzYA0",
        "outputId": "eedc0b16-e0a7-4f92-a554-61dd03acd10f",
        "colab": {
          "base_uri": "https://localhost:8080/",
          "height": 410
        }
      },
      "outputs": [
        {
          "output_type": "display_data",
          "data": {
            "text/plain": [
              "<Figure size 1000x400 with 2 Axes>"
            ],
            "image/png": "[encoded data removed]"
          },
          "metadata": {}
        }
      ],
      "source": [
        "plot_prediction(model, sample_idx=5)"
      ]
    },
    {
      "cell_type": "markdown",
      "metadata": {
        "collapsed": false,
        "id": "DOYmwU3RzYA0"
      },
      "source": [
        "And now it's time to train!"
      ]
    },
    {
      "cell_type": "code",
      "execution_count": 29,
      "metadata": {
        "id": "lerpL3VYzYA0",
        "outputId": "4123afdb-d164-445a-bdfc-475cf6298bad",
        "colab": {
          "base_uri": "https://localhost:8080/"
        }
      },
      "outputs": [
        {
          "output_type": "stream",
          "name": "stdout",
          "text": [
            "Random init: train loss: 1078.90826, train acc: 0.099, test acc: 0.100\n",
            "Epoch #1, train loss: 3276.21655, train acc: 0.184, test acc: 0.181\n",
            "Epoch #2, train loss: 2364.69545, train acc: 0.608, test acc: 0.552\n",
            "Epoch #3, train loss: 1824.90136, train acc: 0.783, test acc: 0.744\n",
            "Epoch #4, train loss: 1463.12184, train acc: 0.840, test acc: 0.833\n",
            "Epoch #5, train loss: 1175.44638, train acc: 0.869, test acc: 0.863\n",
            "Epoch #6, train loss: 987.48206, train acc: 0.889, test acc: 0.885\n",
            "Epoch #7, train loss: 853.52773, train acc: 0.899, test acc: 0.904\n",
            "Epoch #8, train loss: 756.84948, train acc: 0.914, test acc: 0.904\n",
            "Epoch #9, train loss: 697.53097, train acc: 0.924, test acc: 0.911\n",
            "Epoch #10, train loss: 649.24385, train acc: 0.928, test acc: 0.926\n",
            "Epoch #11, train loss: 606.97029, train acc: 0.933, test acc: 0.930\n",
            "Epoch #12, train loss: 574.19042, train acc: 0.938, test acc: 0.930\n",
            "Epoch #13, train loss: 550.24685, train acc: 0.944, test acc: 0.930\n",
            "Epoch #14, train loss: 528.99208, train acc: 0.946, test acc: 0.937\n",
            "Epoch #15, train loss: 509.31837, train acc: 0.948, test acc: 0.933\n"
          ]
        }
      ],
      "source": [
        "losses, accuracies, accuracies_test = [], [], []\n",
        "losses.append(model.loss(X_train, y_train))\n",
        "accuracies.append(model.accuracy(X_train, y_train))\n",
        "accuracies_test.append(model.accuracy(X_test, y_test))\n",
        "\n",
        "print(\"Random init: train loss: %0.5f, train acc: %0.3f, test acc: %0.3f\"\n",
        "      % (losses[-1], accuracies[-1], accuracies_test[-1]))\n",
        "\n",
        "for epoch in range(15):\n",
        "    for i, (x, y) in enumerate(zip(X_train, y_train)):\n",
        "        model.train(x, y, 0.001)\n",
        "\n",
        "    losses.append(model.loss(X_train, y_train))\n",
        "    accuracies.append(model.accuracy(X_train, y_train))\n",
        "    accuracies_test.append(model.accuracy(X_test, y_test))\n",
        "    print(\"Epoch #%d, train loss: %0.5f, train acc: %0.3f, test acc: %0.3f\"\n",
        "          % (epoch + 1, losses[-1], accuracies[-1], accuracies_test[-1]))"
      ]
    },
    {
      "cell_type": "code",
      "execution_count": 30,
      "metadata": {
        "id": "NivrMTaszYA1",
        "outputId": "9d6a1a97-b3bd-453b-af72-3306ed7d5aed",
        "colab": {
          "base_uri": "https://localhost:8080/",
          "height": 452
        }
      },
      "outputs": [
        {
          "output_type": "display_data",
          "data": {
            "text/plain": [
              "<Figure size 640x480 with 1 Axes>"
            ],
            "image/png": "[encoded data removed]"
          },
          "metadata": {}
        }
      ],
      "source": [
        "plt.plot(losses)\n",
        "plt.title(\"Training loss\");"
      ]
    },
    {
      "cell_type": "code",
      "execution_count": 31,
      "metadata": {
        "id": "_P14AFzuzYA1",
        "outputId": "c81e9705-b518-4c11-d015-0de498b01339",
        "colab": {
          "base_uri": "https://localhost:8080/",
          "height": 430
        }
      },
      "outputs": [
        {
          "output_type": "display_data",
          "data": {
            "text/plain": [
              "<Figure size 640x480 with 1 Axes>"
            ],
            "image/png": "[encoded data removed]"
          },
          "metadata": {}
        }
      ],
      "source": [
        "plt.plot(accuracies, label='train')\n",
        "plt.plot(accuracies_test, label='test')\n",
        "plt.ylim(0, 1.1)\n",
        "plt.ylabel(\"accuracy\")\n",
        "plt.legend(loc='best');"
      ]
    },
    {
      "cell_type": "code",
      "execution_count": 34,
      "metadata": {
        "colab": {
          "base_uri": "https://localhost:8080/",
          "height": 410
        },
        "id": "SWmwNbrtzYA1",
        "outputId": "9a8a8c9b-283a-46e3-ab15-0ddcf26f35ea"
      },
      "outputs": [
        {
          "output_type": "display_data",
          "data": {
            "text/plain": [
              "<Figure size 1000x400 with 2 Axes>"
            ],
            "image/png": "[encoded data removed]"
          },
          "metadata": {}
        }
      ],
      "source": [
        "plot_prediction(model, sample_idx=4)"
      ]
    },
    {
      "cell_type": "markdown",
      "metadata": {
        "id": "rUop_elMzYA1"
      },
      "source": [
        "## c) Exercises\n",
        "\n",
        "### Look at worst prediction errors\n",
        "\n",
        "- Use numpy to find test samples for which the model made the worst predictions,\n",
        "- Use the `plot_prediction` to look at the model predictions on those,\n",
        "- Would you have done any better?"
      ]
    },
    {
      "cell_type": "code",
      "execution_count": 35,
      "metadata": {
        "id": "hj0VkDJizYA1",
        "outputId": "8d5d1520-ef0c-43d7-cc1f-0b4459270b70",
        "colab": {
          "base_uri": "https://localhost:8080/"
        }
      },
      "outputs": [
        {
          "output_type": "execute_result",
          "data": {
            "text/plain": [
              "array([2, 4, 7, 9, 1, 1, 5, 6, 2, 3, 0, 2, 0, 5, 4, 8, 7, 0, 3, 6, 8, 1,\n",
              "       9, 8, 0, 9, 8, 4, 2, 7, 5, 4, 2, 3, 6, 9, 6, 1, 8, 6, 5, 7, 8, 1,\n",
              "       6, 5, 0, 1, 9, 4, 8, 5, 3, 9, 3, 1, 4, 6, 7, 5, 4, 0, 3, 8, 1, 2,\n",
              "       6, 8, 6, 3, 1, 7, 4, 7, 4, 1, 7, 0, 8, 8, 5, 2, 0, 3, 7, 4, 2, 4,\n",
              "       6, 0, 6, 0, 8, 3, 6, 7, 3, 0, 7, 1, 8, 5, 8, 1, 4, 1, 2, 9, 1, 4,\n",
              "       1, 9, 3, 0, 9, 5, 6, 8, 2, 1, 4, 5, 3, 6, 7, 0, 4, 2, 1, 1, 5, 2,\n",
              "       5, 6, 9, 1, 2, 7, 6, 0, 9, 2, 1, 6, 8, 2, 1, 4, 2, 4, 1, 5, 9, 3,\n",
              "       3, 4, 1, 2, 2, 5, 6, 0, 7, 9, 6, 8, 6, 1, 1, 3, 9, 2, 0, 3, 0, 2,\n",
              "       2, 8, 0, 7, 4, 0, 1, 5, 3, 9, 5, 7, 9, 9, 8, 0, 7, 1, 8, 4, 7, 7,\n",
              "       4, 0, 8, 1, 4, 0, 1, 8, 6, 5, 0, 1, 6, 2, 0, 4, 7, 5, 3, 7, 3, 4,\n",
              "       5, 9, 9, 7, 3, 4, 5, 8, 1, 1, 9, 5, 5, 1, 4, 1, 2, 9, 2, 9, 5, 3,\n",
              "       6, 0, 8, 6, 7, 6, 7, 8, 2, 6, 3, 3, 2, 1, 5, 5, 4, 2, 2, 5, 0, 5,\n",
              "       2, 8, 8, 7, 9, 0])"
            ]
          },
          "metadata": {},
          "execution_count": 35
        }
      ],
      "source": [
        "y_pred_test = model.predict(X_test)\n",
        "y_pred_test"
      ]
    },
    {
      "cell_type": "code",
      "source": [
        "#find the False\n",
        "y_pred_test==y_test"
      ],
      "metadata": {
        "id": "40IZxX1X9fXe",
        "outputId": "934c2f46-9a3a-4634-e4c6-fe7c3d30f376",
        "colab": {
          "base_uri": "https://localhost:8080/"
        }
      },
      "execution_count": 40,
      "outputs": [
        {
          "output_type": "execute_result",
          "data": {
            "text/plain": [
              "array([ True,  True,  True,  True,  True,  True,  True,  True,  True,\n",
              "       False,  True,  True,  True,  True,  True,  True,  True,  True,\n",
              "        True,  True,  True,  True,  True,  True,  True,  True,  True,\n",
              "        True,  True,  True,  True,  True,  True, False,  True,  True,\n",
              "        True,  True,  True,  True,  True,  True,  True,  True,  True,\n",
              "        True,  True,  True,  True,  True,  True,  True,  True,  True,\n",
              "        True, False,  True,  True,  True,  True,  True,  True,  True,\n",
              "        True,  True,  True,  True,  True,  True, False,  True,  True,\n",
              "        True,  True,  True,  True,  True,  True,  True,  True,  True,\n",
              "        True,  True,  True,  True,  True,  True,  True,  True,  True,\n",
              "        True,  True,  True,  True,  True,  True,  True,  True,  True,\n",
              "       False,  True,  True,  True,  True,  True,  True,  True, False,\n",
              "        True,  True, False,  True, False,  True,  True,  True,  True,\n",
              "        True,  True,  True,  True,  True,  True, False,  True,  True,\n",
              "        True,  True,  True,  True,  True,  True,  True,  True,  True,\n",
              "        True,  True,  True,  True,  True,  True,  True,  True,  True,\n",
              "        True,  True,  True,  True,  True,  True,  True,  True,  True,\n",
              "        True,  True,  True,  True,  True,  True,  True,  True,  True,\n",
              "        True,  True,  True,  True,  True,  True,  True,  True, False,\n",
              "        True,  True, False,  True,  True,  True,  True,  True,  True,\n",
              "       False,  True, False,  True,  True,  True,  True,  True,  True,\n",
              "        True,  True,  True,  True,  True,  True,  True,  True,  True,\n",
              "        True,  True,  True,  True,  True,  True, False,  True,  True,\n",
              "        True,  True,  True,  True,  True,  True,  True,  True,  True,\n",
              "        True,  True,  True,  True,  True,  True,  True,  True,  True,\n",
              "        True,  True,  True,  True,  True,  True,  True,  True,  True,\n",
              "        True,  True,  True,  True,  True,  True,  True,  True,  True,\n",
              "        True,  True,  True,  True,  True,  True, False,  True,  True,\n",
              "       False,  True,  True, False,  True,  True,  True,  True,  True,\n",
              "        True,  True,  True,  True,  True,  True, False,  True,  True])"
            ]
          },
          "metadata": {},
          "execution_count": 40
        }
      ]
    },
    {
      "cell_type": "code",
      "source": [],
      "metadata": {
        "id": "9N6jGmpA_klu"
      },
      "execution_count": null,
      "outputs": []
    },
    {
      "cell_type": "markdown",
      "metadata": {
        "id": "5mi1MnszzYA2"
      },
      "source": [
        "\n",
        "### Hyper parameters settings\n",
        "\n",
        "- Experiment with different hyperparameters:\n",
        "  - learning rate,\n",
        "  - size of hidden layer,\n",
        "  - implement the support for a second hidden layer.\n",
        "  - What is the best test accuracy you can get?"
      ]
    },
    {
      "cell_type": "code",
      "execution_count": 46,
      "metadata": {
        "id": "GiPz418szYA2",
        "outputId": "049d0699-0922-40db-a532-03957045c78d",
        "colab": {
          "base_uri": "https://localhost:8080/"
        }
      },
      "outputs": [
        {
          "output_type": "stream",
          "name": "stdout",
          "text": [
            "Random init: train loss: 1057.21661, train acc: 0.100, test acc: 0.107\n",
            "hidden size: 5 learning_rate: 0.001 test accuracy: 0.6185185185185185\n",
            "Random init: train loss: 1088.07201, train acc: 0.031, test acc: 0.022\n",
            "hidden size: 5 learning_rate: 0.01 test accuracy: 0.06296296296296296\n",
            "Random init: train loss: 1056.38765, train acc: 0.109, test acc: 0.063\n",
            "hidden size: 5 learning_rate: 1 test accuracy: 0.35555555555555557\n",
            "Random init: train loss: 1076.95769, train acc: 0.070, test acc: 0.078\n",
            "hidden size: 10 learning_rate: 0.001 test accuracy: 0.9296296296296296\n",
            "Random init: train loss: 1032.10722, train acc: 0.101, test acc: 0.115\n",
            "hidden size: 10 learning_rate: 0.01 test accuracy: 0.8814814814814815\n",
            "Random init: train loss: 1032.01493, train acc: 0.101, test acc: 0.104\n",
            "hidden size: 10 learning_rate: 1 test accuracy: 0.9222222222222223\n",
            "Random init: train loss: 1104.53164, train acc: 0.110, test acc: 0.115\n",
            "hidden size: 20 learning_rate: 0.001 test accuracy: 0.9481481481481482\n",
            "Random init: train loss: 1055.32180, train acc: 0.105, test acc: 0.107\n",
            "hidden size: 20 learning_rate: 0.01 test accuracy: 0.9629629629629629\n",
            "Random init: train loss: 1093.39729, train acc: 0.090, test acc: 0.130\n",
            "hidden size: 20 learning_rate: 1 test accuracy: 0.9444444444444444\n"
          ]
        }
      ],
      "source": [
        "for hidden_size in [5,10,20]:\n",
        "  for lr in [0.001,0.01,1]:\n",
        "    model = NeuralNet(n_features, hidden_size, n_classes)\n",
        "\n",
        "    losses, accuracies, accuracies_test = [], [], []\n",
        "    losses.append(model.loss(X_train, y_train))\n",
        "    accuracies.append(model.accuracy(X_train, y_train))\n",
        "    accuracies_test.append(model.accuracy(X_test, y_test))\n",
        "\n",
        "    print(\"Random init: train loss: %0.5f, train acc: %0.3f, test acc: %0.3f\"\n",
        "          % (losses[-1], accuracies[-1], accuracies_test[-1]))\n",
        "\n",
        "    for epoch in range(15):\n",
        "        for i, (x, y) in enumerate(zip(X_train, y_train)):\n",
        "            model.train(x, y, 0.001)\n",
        "\n",
        "        losses.append(model.loss(X_train, y_train))\n",
        "        accuracies.append(model.accuracy(X_train, y_train))\n",
        "        accuracies_test.append(model.accuracy(X_test, y_test))\n",
        "       # print(\"Epoch #%d, train loss: %0.5f, train acc: %0.3f, test acc: %0.3f\"\n",
        "              #% (epoch + 1, losses[-1], accuracies[-1], accuracies_test[-1]))\n",
        "        if epoch == 14:\n",
        "          print(\"hidden size:\", hidden_size, \"learning_rate:\", lr,\n",
        "                \"test accuracy:\", accuracies_test[-1])"
      ]
    },
    {
      "cell_type": "code",
      "execution_count": null,
      "metadata": {
        "id": "2rEuI7CXzYA2"
      },
      "outputs": [],
      "source": []
    }
  ],
  "metadata": {
    "kernelspec": {
      "display_name": "lab_1",
      "language": "python",
      "name": "python3"
    },
    "language_info": {
      "codemirror_mode": {
        "name": "ipython",
        "version": 3
      },
      "file_extension": ".py",
      "mimetype": "text/x-python",
      "name": "python",
      "nbconvert_exporter": "python",
      "pygments_lexer": "ipython3",
      "version": "3.12.9"
    },
    "colab": {
      "provenance": []
    }
  },
  "nbformat": 4,
  "nbformat_minor": 0
}